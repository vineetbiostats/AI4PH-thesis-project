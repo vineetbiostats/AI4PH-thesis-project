{
  "nbformat": 4,
  "nbformat_minor": 0,
  "metadata": {
    "colab": {
      "provenance": [],
      "name": "Twitter_thrombo.ipynb",
      "mount_file_id": "19Gzl7zvMw4LfgbYTqgVDZSRWhkjkoYBu",
      "authorship_tag": "ABX9TyN8EppOE/iK/Mb3/+z/dqZd",
      "include_colab_link": true
    },
    "kernelspec": {
      "name": "python3",
      "display_name": "Python 3"
    },
    "language_info": {
      "name": "python"
    }
  },
  "cells": [
    {
      "cell_type": "markdown",
      "metadata": {
        "id": "view-in-github",
        "colab_type": "text"
      },
      "source": [
        "<a href=\"https://colab.research.google.com/github/vineetbiostats/AI4PH-thesis-project/blob/main/Twitter_thrombo.ipynb\" target=\"_parent\"><img src=\"https://colab.research.google.com/assets/colab-badge.svg\" alt=\"Open In Colab\"/></a>"
      ]
    },
    {
      "cell_type": "code",
      "execution_count": null,
      "metadata": {
        "id": "xMsxJi5tSO6O"
      },
      "outputs": [],
      "source": []
    },
    {
      "cell_type": "code",
      "source": [
        "from google.colab import drive\n",
        "drive.mount('/content/drive')"
      ],
      "metadata": {
        "id": "NCj3esyNSaeh"
      },
      "execution_count": null,
      "outputs": []
    },
    {
      "cell_type": "markdown",
      "source": [
        "# New Section"
      ],
      "metadata": {
        "id": "dtqz2lqSUS9J"
      }
    },
    {
      "cell_type": "code",
      "source": [
        "import pandas as pd"
      ],
      "metadata": {
        "id": "COZbnkGjVN6e"
      },
      "execution_count": null,
      "outputs": []
    },
    {
      "cell_type": "code",
      "source": [
        "path=\"/content/drive/MyDrive/socialnetworkdata/results_thrombo2021.csv\"\n",
        "data=pd.read_csv(path,low_memory=False,\n",
        "                    dtype={'entities.hashtags':\"object\"})\n",
        "data.head(5)\n"
      ],
      "metadata": {
        "colab": {
          "base_uri": "https://localhost:8080/",
          "height": 386
        },
        "id": "xPpOF_RhVS4m",
        "outputId": "f5582231-70eb-434a-837a-e69e9776d86a"
      },
      "execution_count": null,
      "outputs": [
        {
          "output_type": "execute_result",
          "data": {
            "text/plain": [
              "                    id      conversation_id  referenced_tweets.replied_to.id  \\\n",
              "0  1477018576116600832  1477018576116600832                              NaN   \n",
              "1  1477012566819971076  1477012566819971076                              NaN   \n",
              "2  1476888127188910083  1476810380584407042                     1.476810e+18   \n",
              "3  1476572436627804162  1476572436627804162                              NaN   \n",
              "4  1476468420237422596  1476468420237422596                              NaN   \n",
              "\n",
              "   referenced_tweets.retweeted.id  referenced_tweets.quoted.id  \\\n",
              "0                    1.471940e+18                          NaN   \n",
              "1                    1.475886e+18                          NaN   \n",
              "2                             NaN                          NaN   \n",
              "3                             NaN                          NaN   \n",
              "4                             NaN                          NaN   \n",
              "\n",
              "             author_id  in_reply_to_user_id in_reply_to_username  \\\n",
              "0   905785394700189697                  NaN                  NaN   \n",
              "1            127759635                  NaN                  NaN   \n",
              "2  1317119491516604419           18809812.0          toadmeister   \n",
              "3   788062452013412352                  NaN                  NaN   \n",
              "4   869394542725701634                  NaN                  NaN   \n",
              "\n",
              "   retweeted_user_id retweeted_username  ...  geo.geo.bbox geo.geo.type  \\\n",
              "0       1.313517e+09             DrDev7  ...           NaN          NaN   \n",
              "1       3.430120e+08          AmbrizMau  ...           NaN          NaN   \n",
              "2                NaN                NaN  ...           NaN          NaN   \n",
              "3                NaN                NaN  ...           NaN          NaN   \n",
              "4                NaN                NaN  ...           NaN          NaN   \n",
              "\n",
              "  geo.id geo.name geo.place_id  geo.place_type  matching_rules  \\\n",
              "0    NaN      NaN          NaN             NaN             NaN   \n",
              "1    NaN      NaN          NaN             NaN             NaN   \n",
              "2    NaN      NaN          NaN             NaN             NaN   \n",
              "3    NaN      NaN          NaN             NaN             NaN   \n",
              "4    NaN      NaN          NaN             NaN             NaN   \n",
              "\n",
              "        __twarc.retrieved_at  \\\n",
              "0  2023-02-07T14:14:38+00:00   \n",
              "1  2023-02-07T14:14:38+00:00   \n",
              "2  2023-02-07T14:14:38+00:00   \n",
              "3  2023-02-07T14:14:38+00:00   \n",
              "4  2023-02-07T14:14:38+00:00   \n",
              "\n",
              "                                         __twarc.url  __twarc.version  \n",
              "0  https://api.twitter.com/2/tweets/search/all?ex...           2.13.0  \n",
              "1  https://api.twitter.com/2/tweets/search/all?ex...           2.13.0  \n",
              "2  https://api.twitter.com/2/tweets/search/all?ex...           2.13.0  \n",
              "3  https://api.twitter.com/2/tweets/search/all?ex...           2.13.0  \n",
              "4  https://api.twitter.com/2/tweets/search/all?ex...           2.13.0  \n",
              "\n",
              "[5 rows x 83 columns]"
            ],
            "text/html": [
              "\n",
              "  <div id=\"df-a71a6300-967c-452a-b6c3-91b7da8e1c62\">\n",
              "    <div class=\"colab-df-container\">\n",
              "      <div>\n",
              "<style scoped>\n",
              "    .dataframe tbody tr th:only-of-type {\n",
              "        vertical-align: middle;\n",
              "    }\n",
              "\n",
              "    .dataframe tbody tr th {\n",
              "        vertical-align: top;\n",
              "    }\n",
              "\n",
              "    .dataframe thead th {\n",
              "        text-align: right;\n",
              "    }\n",
              "</style>\n",
              "<table border=\"1\" class=\"dataframe\">\n",
              "  <thead>\n",
              "    <tr style=\"text-align: right;\">\n",
              "      <th></th>\n",
              "      <th>id</th>\n",
              "      <th>conversation_id</th>\n",
              "      <th>referenced_tweets.replied_to.id</th>\n",
              "      <th>referenced_tweets.retweeted.id</th>\n",
              "      <th>referenced_tweets.quoted.id</th>\n",
              "      <th>author_id</th>\n",
              "      <th>in_reply_to_user_id</th>\n",
              "      <th>in_reply_to_username</th>\n",
              "      <th>retweeted_user_id</th>\n",
              "      <th>retweeted_username</th>\n",
              "      <th>...</th>\n",
              "      <th>geo.geo.bbox</th>\n",
              "      <th>geo.geo.type</th>\n",
              "      <th>geo.id</th>\n",
              "      <th>geo.name</th>\n",
              "      <th>geo.place_id</th>\n",
              "      <th>geo.place_type</th>\n",
              "      <th>matching_rules</th>\n",
              "      <th>__twarc.retrieved_at</th>\n",
              "      <th>__twarc.url</th>\n",
              "      <th>__twarc.version</th>\n",
              "    </tr>\n",
              "  </thead>\n",
              "  <tbody>\n",
              "    <tr>\n",
              "      <th>0</th>\n",
              "      <td>1477018576116600832</td>\n",
              "      <td>1477018576116600832</td>\n",
              "      <td>NaN</td>\n",
              "      <td>1.471940e+18</td>\n",
              "      <td>NaN</td>\n",
              "      <td>905785394700189697</td>\n",
              "      <td>NaN</td>\n",
              "      <td>NaN</td>\n",
              "      <td>1.313517e+09</td>\n",
              "      <td>DrDev7</td>\n",
              "      <td>...</td>\n",
              "      <td>NaN</td>\n",
              "      <td>NaN</td>\n",
              "      <td>NaN</td>\n",
              "      <td>NaN</td>\n",
              "      <td>NaN</td>\n",
              "      <td>NaN</td>\n",
              "      <td>NaN</td>\n",
              "      <td>2023-02-07T14:14:38+00:00</td>\n",
              "      <td>https://api.twitter.com/2/tweets/search/all?ex...</td>\n",
              "      <td>2.13.0</td>\n",
              "    </tr>\n",
              "    <tr>\n",
              "      <th>1</th>\n",
              "      <td>1477012566819971076</td>\n",
              "      <td>1477012566819971076</td>\n",
              "      <td>NaN</td>\n",
              "      <td>1.475886e+18</td>\n",
              "      <td>NaN</td>\n",
              "      <td>127759635</td>\n",
              "      <td>NaN</td>\n",
              "      <td>NaN</td>\n",
              "      <td>3.430120e+08</td>\n",
              "      <td>AmbrizMau</td>\n",
              "      <td>...</td>\n",
              "      <td>NaN</td>\n",
              "      <td>NaN</td>\n",
              "      <td>NaN</td>\n",
              "      <td>NaN</td>\n",
              "      <td>NaN</td>\n",
              "      <td>NaN</td>\n",
              "      <td>NaN</td>\n",
              "      <td>2023-02-07T14:14:38+00:00</td>\n",
              "      <td>https://api.twitter.com/2/tweets/search/all?ex...</td>\n",
              "      <td>2.13.0</td>\n",
              "    </tr>\n",
              "    <tr>\n",
              "      <th>2</th>\n",
              "      <td>1476888127188910083</td>\n",
              "      <td>1476810380584407042</td>\n",
              "      <td>1.476810e+18</td>\n",
              "      <td>NaN</td>\n",
              "      <td>NaN</td>\n",
              "      <td>1317119491516604419</td>\n",
              "      <td>18809812.0</td>\n",
              "      <td>toadmeister</td>\n",
              "      <td>NaN</td>\n",
              "      <td>NaN</td>\n",
              "      <td>...</td>\n",
              "      <td>NaN</td>\n",
              "      <td>NaN</td>\n",
              "      <td>NaN</td>\n",
              "      <td>NaN</td>\n",
              "      <td>NaN</td>\n",
              "      <td>NaN</td>\n",
              "      <td>NaN</td>\n",
              "      <td>2023-02-07T14:14:38+00:00</td>\n",
              "      <td>https://api.twitter.com/2/tweets/search/all?ex...</td>\n",
              "      <td>2.13.0</td>\n",
              "    </tr>\n",
              "    <tr>\n",
              "      <th>3</th>\n",
              "      <td>1476572436627804162</td>\n",
              "      <td>1476572436627804162</td>\n",
              "      <td>NaN</td>\n",
              "      <td>NaN</td>\n",
              "      <td>NaN</td>\n",
              "      <td>788062452013412352</td>\n",
              "      <td>NaN</td>\n",
              "      <td>NaN</td>\n",
              "      <td>NaN</td>\n",
              "      <td>NaN</td>\n",
              "      <td>...</td>\n",
              "      <td>NaN</td>\n",
              "      <td>NaN</td>\n",
              "      <td>NaN</td>\n",
              "      <td>NaN</td>\n",
              "      <td>NaN</td>\n",
              "      <td>NaN</td>\n",
              "      <td>NaN</td>\n",
              "      <td>2023-02-07T14:14:38+00:00</td>\n",
              "      <td>https://api.twitter.com/2/tweets/search/all?ex...</td>\n",
              "      <td>2.13.0</td>\n",
              "    </tr>\n",
              "    <tr>\n",
              "      <th>4</th>\n",
              "      <td>1476468420237422596</td>\n",
              "      <td>1476468420237422596</td>\n",
              "      <td>NaN</td>\n",
              "      <td>NaN</td>\n",
              "      <td>NaN</td>\n",
              "      <td>869394542725701634</td>\n",
              "      <td>NaN</td>\n",
              "      <td>NaN</td>\n",
              "      <td>NaN</td>\n",
              "      <td>NaN</td>\n",
              "      <td>...</td>\n",
              "      <td>NaN</td>\n",
              "      <td>NaN</td>\n",
              "      <td>NaN</td>\n",
              "      <td>NaN</td>\n",
              "      <td>NaN</td>\n",
              "      <td>NaN</td>\n",
              "      <td>NaN</td>\n",
              "      <td>2023-02-07T14:14:38+00:00</td>\n",
              "      <td>https://api.twitter.com/2/tweets/search/all?ex...</td>\n",
              "      <td>2.13.0</td>\n",
              "    </tr>\n",
              "  </tbody>\n",
              "</table>\n",
              "<p>5 rows × 83 columns</p>\n",
              "</div>\n",
              "      <button class=\"colab-df-convert\" onclick=\"convertToInteractive('df-a71a6300-967c-452a-b6c3-91b7da8e1c62')\"\n",
              "              title=\"Convert this dataframe to an interactive table.\"\n",
              "              style=\"display:none;\">\n",
              "        \n",
              "  <svg xmlns=\"http://www.w3.org/2000/svg\" height=\"24px\"viewBox=\"0 0 24 24\"\n",
              "       width=\"24px\">\n",
              "    <path d=\"M0 0h24v24H0V0z\" fill=\"none\"/>\n",
              "    <path d=\"M18.56 5.44l.94 2.06.94-2.06 2.06-.94-2.06-.94-.94-2.06-.94 2.06-2.06.94zm-11 1L8.5 8.5l.94-2.06 2.06-.94-2.06-.94L8.5 2.5l-.94 2.06-2.06.94zm10 10l.94 2.06.94-2.06 2.06-.94-2.06-.94-.94-2.06-.94 2.06-2.06.94z\"/><path d=\"M17.41 7.96l-1.37-1.37c-.4-.4-.92-.59-1.43-.59-.52 0-1.04.2-1.43.59L10.3 9.45l-7.72 7.72c-.78.78-.78 2.05 0 2.83L4 21.41c.39.39.9.59 1.41.59.51 0 1.02-.2 1.41-.59l7.78-7.78 2.81-2.81c.8-.78.8-2.07 0-2.86zM5.41 20L4 18.59l7.72-7.72 1.47 1.35L5.41 20z\"/>\n",
              "  </svg>\n",
              "      </button>\n",
              "      \n",
              "  <style>\n",
              "    .colab-df-container {\n",
              "      display:flex;\n",
              "      flex-wrap:wrap;\n",
              "      gap: 12px;\n",
              "    }\n",
              "\n",
              "    .colab-df-convert {\n",
              "      background-color: #E8F0FE;\n",
              "      border: none;\n",
              "      border-radius: 50%;\n",
              "      cursor: pointer;\n",
              "      display: none;\n",
              "      fill: #1967D2;\n",
              "      height: 32px;\n",
              "      padding: 0 0 0 0;\n",
              "      width: 32px;\n",
              "    }\n",
              "\n",
              "    .colab-df-convert:hover {\n",
              "      background-color: #E2EBFA;\n",
              "      box-shadow: 0px 1px 2px rgba(60, 64, 67, 0.3), 0px 1px 3px 1px rgba(60, 64, 67, 0.15);\n",
              "      fill: #174EA6;\n",
              "    }\n",
              "\n",
              "    [theme=dark] .colab-df-convert {\n",
              "      background-color: #3B4455;\n",
              "      fill: #D2E3FC;\n",
              "    }\n",
              "\n",
              "    [theme=dark] .colab-df-convert:hover {\n",
              "      background-color: #434B5C;\n",
              "      box-shadow: 0px 1px 3px 1px rgba(0, 0, 0, 0.15);\n",
              "      filter: drop-shadow(0px 1px 2px rgba(0, 0, 0, 0.3));\n",
              "      fill: #FFFFFF;\n",
              "    }\n",
              "  </style>\n",
              "\n",
              "      <script>\n",
              "        const buttonEl =\n",
              "          document.querySelector('#df-a71a6300-967c-452a-b6c3-91b7da8e1c62 button.colab-df-convert');\n",
              "        buttonEl.style.display =\n",
              "          google.colab.kernel.accessAllowed ? 'block' : 'none';\n",
              "\n",
              "        async function convertToInteractive(key) {\n",
              "          const element = document.querySelector('#df-a71a6300-967c-452a-b6c3-91b7da8e1c62');\n",
              "          const dataTable =\n",
              "            await google.colab.kernel.invokeFunction('convertToInteractive',\n",
              "                                                     [key], {});\n",
              "          if (!dataTable) return;\n",
              "\n",
              "          const docLinkHtml = 'Like what you see? Visit the ' +\n",
              "            '<a target=\"_blank\" href=https://colab.research.google.com/notebooks/data_table.ipynb>data table notebook</a>'\n",
              "            + ' to learn more about interactive tables.';\n",
              "          element.innerHTML = '';\n",
              "          dataTable['output_type'] = 'display_data';\n",
              "          await google.colab.output.renderOutput(dataTable, element);\n",
              "          const docLink = document.createElement('div');\n",
              "          docLink.innerHTML = docLinkHtml;\n",
              "          element.appendChild(docLink);\n",
              "        }\n",
              "      </script>\n",
              "    </div>\n",
              "  </div>\n",
              "  "
            ]
          },
          "metadata": {},
          "execution_count": 10
        }
      ]
    },
    {
      "cell_type": "code",
      "source": [
        "data.shape"
      ],
      "metadata": {
        "colab": {
          "base_uri": "https://localhost:8080/"
        },
        "id": "CTOKgkb-XeYZ",
        "outputId": "f56044ce-3dcf-4229-9487-c52a9b218b5c"
      },
      "execution_count": null,
      "outputs": [
        {
          "output_type": "execute_result",
          "data": {
            "text/plain": [
              "(18689, 83)"
            ]
          },
          "metadata": {},
          "execution_count": 11
        }
      ]
    },
    {
      "cell_type": "code",
      "source": [
        "filtre = pd.isnull(data[\"retweeted_user_id\"]) & pd.isnull(data[\"quoted_user_id\"]) "
      ],
      "metadata": {
        "id": "a6iD4r0RoO33"
      },
      "execution_count": null,
      "outputs": []
    },
    {
      "cell_type": "code",
      "source": [
        "filtre.sum()"
      ],
      "metadata": {
        "colab": {
          "base_uri": "https://localhost:8080/"
        },
        "id": "Y_OPL3c0oc2t",
        "outputId": "623eff26-cded-45d3-8b00-a207d72fa21a"
      },
      "execution_count": null,
      "outputs": [
        {
          "output_type": "execute_result",
          "data": {
            "text/plain": [
              "2619"
            ]
          },
          "metadata": {},
          "execution_count": 13
        }
      ]
    },
    {
      "cell_type": "code",
      "source": [
        "data[filtre]"
      ],
      "metadata": {
        "colab": {
          "base_uri": "https://localhost:8080/",
          "height": 661
        },
        "id": "J-PraL-yuyeV",
        "outputId": "e8fcde52-0b3e-449d-91c8-ff51853a4da4"
      },
      "execution_count": null,
      "outputs": [
        {
          "output_type": "execute_result",
          "data": {
            "text/plain": [
              "                        id      conversation_id  \\\n",
              "2      1476888127188910083  1476810380584407042   \n",
              "3      1476572436627804162  1476572436627804162   \n",
              "4      1476468420237422596  1476468420237422596   \n",
              "6      1476379092832370692  1476254547404374025   \n",
              "7      1476343829691256835  1476343829691256835   \n",
              "...                    ...                  ...   \n",
              "18681  1399746888757305347  1399746888757305347   \n",
              "18682  1399706320333271041  1399284292077772800   \n",
              "18683  1399700649965539330  1399428604078006281   \n",
              "18685  1399652589453680642  1399652589453680642   \n",
              "18687  1399608476851228675  1395741936141717504   \n",
              "\n",
              "       referenced_tweets.replied_to.id  referenced_tweets.retweeted.id  \\\n",
              "2                         1.476810e+18                             NaN   \n",
              "3                                  NaN                             NaN   \n",
              "4                                  NaN                             NaN   \n",
              "6                         1.476364e+18                             NaN   \n",
              "7                                  NaN                             NaN   \n",
              "...                                ...                             ...   \n",
              "18681                              NaN                             NaN   \n",
              "18682                     1.399701e+18                             NaN   \n",
              "18683                     1.399698e+18                             NaN   \n",
              "18685                              NaN                             NaN   \n",
              "18687                     1.395742e+18                             NaN   \n",
              "\n",
              "       referenced_tweets.quoted.id            author_id  in_reply_to_user_id  \\\n",
              "2                              NaN  1317119491516604419         1.880981e+07   \n",
              "3                              NaN   788062452013412352                  NaN   \n",
              "4                              NaN   869394542725701634                  NaN   \n",
              "6                              NaN             47552449         1.448750e+18   \n",
              "7                              NaN   801569962921955328                  NaN   \n",
              "...                            ...                  ...                  ...   \n",
              "18681                          NaN  1218142222098599938                  NaN   \n",
              "18682                          NaN   769423247725109248         1.936243e+07   \n",
              "18683                          NaN  1344219879428206592         3.150105e+08   \n",
              "18685                          NaN            833942719                  NaN   \n",
              "18687                          NaN           4181515517         2.415347e+08   \n",
              "\n",
              "      in_reply_to_username  retweeted_user_id retweeted_username  ...  \\\n",
              "2              toadmeister                NaN                NaN  ...   \n",
              "3                      NaN                NaN                NaN  ...   \n",
              "4                      NaN                NaN                NaN  ...   \n",
              "6                      NaN                NaN                NaN  ...   \n",
              "7                      NaN                NaN                NaN  ...   \n",
              "...                    ...                ...                ...  ...   \n",
              "18681                  NaN                NaN                NaN  ...   \n",
              "18682         NewMumOnline                NaN                NaN  ...   \n",
              "18683             ckfinite                NaN                NaN  ...   \n",
              "18685                  NaN                NaN                NaN  ...   \n",
              "18687      YardleyShooting                NaN                NaN  ...   \n",
              "\n",
              "       geo.geo.bbox geo.geo.type geo.id geo.name geo.place_id  geo.place_type  \\\n",
              "2               NaN          NaN    NaN      NaN          NaN             NaN   \n",
              "3               NaN          NaN    NaN      NaN          NaN             NaN   \n",
              "4               NaN          NaN    NaN      NaN          NaN             NaN   \n",
              "6               NaN          NaN    NaN      NaN          NaN             NaN   \n",
              "7               NaN          NaN    NaN      NaN          NaN             NaN   \n",
              "...             ...          ...    ...      ...          ...             ...   \n",
              "18681           NaN          NaN    NaN      NaN          NaN             NaN   \n",
              "18682           NaN          NaN    NaN      NaN          NaN             NaN   \n",
              "18683           NaN          NaN    NaN      NaN          NaN             NaN   \n",
              "18685           NaN          NaN    NaN      NaN          NaN             NaN   \n",
              "18687           NaN          NaN    NaN      NaN          NaN             NaN   \n",
              "\n",
              "       matching_rules       __twarc.retrieved_at  \\\n",
              "2                 NaN  2023-02-07T14:14:38+00:00   \n",
              "3                 NaN  2023-02-07T14:14:38+00:00   \n",
              "4                 NaN  2023-02-07T14:14:38+00:00   \n",
              "6                 NaN  2023-02-07T14:14:38+00:00   \n",
              "7                 NaN  2023-02-07T14:14:38+00:00   \n",
              "...               ...                        ...   \n",
              "18681             NaN  2023-02-07T14:30:48+00:00   \n",
              "18682             NaN  2023-02-07T14:30:48+00:00   \n",
              "18683             NaN  2023-02-07T14:30:48+00:00   \n",
              "18685             NaN  2023-02-07T14:30:48+00:00   \n",
              "18687             NaN  2023-02-07T14:30:48+00:00   \n",
              "\n",
              "                                             __twarc.url  __twarc.version  \n",
              "2      https://api.twitter.com/2/tweets/search/all?ex...           2.13.0  \n",
              "3      https://api.twitter.com/2/tweets/search/all?ex...           2.13.0  \n",
              "4      https://api.twitter.com/2/tweets/search/all?ex...           2.13.0  \n",
              "6      https://api.twitter.com/2/tweets/search/all?ex...           2.13.0  \n",
              "7      https://api.twitter.com/2/tweets/search/all?ex...           2.13.0  \n",
              "...                                                  ...              ...  \n",
              "18681  https://api.twitter.com/2/tweets/search/all?ex...           2.13.0  \n",
              "18682  https://api.twitter.com/2/tweets/search/all?ex...           2.13.0  \n",
              "18683  https://api.twitter.com/2/tweets/search/all?ex...           2.13.0  \n",
              "18685  https://api.twitter.com/2/tweets/search/all?ex...           2.13.0  \n",
              "18687  https://api.twitter.com/2/tweets/search/all?ex...           2.13.0  \n",
              "\n",
              "[2619 rows x 83 columns]"
            ],
            "text/html": [
              "\n",
              "  <div id=\"df-31f7ccb9-8de2-4e06-9300-14570fbd9ab6\">\n",
              "    <div class=\"colab-df-container\">\n",
              "      <div>\n",
              "<style scoped>\n",
              "    .dataframe tbody tr th:only-of-type {\n",
              "        vertical-align: middle;\n",
              "    }\n",
              "\n",
              "    .dataframe tbody tr th {\n",
              "        vertical-align: top;\n",
              "    }\n",
              "\n",
              "    .dataframe thead th {\n",
              "        text-align: right;\n",
              "    }\n",
              "</style>\n",
              "<table border=\"1\" class=\"dataframe\">\n",
              "  <thead>\n",
              "    <tr style=\"text-align: right;\">\n",
              "      <th></th>\n",
              "      <th>id</th>\n",
              "      <th>conversation_id</th>\n",
              "      <th>referenced_tweets.replied_to.id</th>\n",
              "      <th>referenced_tweets.retweeted.id</th>\n",
              "      <th>referenced_tweets.quoted.id</th>\n",
              "      <th>author_id</th>\n",
              "      <th>in_reply_to_user_id</th>\n",
              "      <th>in_reply_to_username</th>\n",
              "      <th>retweeted_user_id</th>\n",
              "      <th>retweeted_username</th>\n",
              "      <th>...</th>\n",
              "      <th>geo.geo.bbox</th>\n",
              "      <th>geo.geo.type</th>\n",
              "      <th>geo.id</th>\n",
              "      <th>geo.name</th>\n",
              "      <th>geo.place_id</th>\n",
              "      <th>geo.place_type</th>\n",
              "      <th>matching_rules</th>\n",
              "      <th>__twarc.retrieved_at</th>\n",
              "      <th>__twarc.url</th>\n",
              "      <th>__twarc.version</th>\n",
              "    </tr>\n",
              "  </thead>\n",
              "  <tbody>\n",
              "    <tr>\n",
              "      <th>2</th>\n",
              "      <td>1476888127188910083</td>\n",
              "      <td>1476810380584407042</td>\n",
              "      <td>1.476810e+18</td>\n",
              "      <td>NaN</td>\n",
              "      <td>NaN</td>\n",
              "      <td>1317119491516604419</td>\n",
              "      <td>1.880981e+07</td>\n",
              "      <td>toadmeister</td>\n",
              "      <td>NaN</td>\n",
              "      <td>NaN</td>\n",
              "      <td>...</td>\n",
              "      <td>NaN</td>\n",
              "      <td>NaN</td>\n",
              "      <td>NaN</td>\n",
              "      <td>NaN</td>\n",
              "      <td>NaN</td>\n",
              "      <td>NaN</td>\n",
              "      <td>NaN</td>\n",
              "      <td>2023-02-07T14:14:38+00:00</td>\n",
              "      <td>https://api.twitter.com/2/tweets/search/all?ex...</td>\n",
              "      <td>2.13.0</td>\n",
              "    </tr>\n",
              "    <tr>\n",
              "      <th>3</th>\n",
              "      <td>1476572436627804162</td>\n",
              "      <td>1476572436627804162</td>\n",
              "      <td>NaN</td>\n",
              "      <td>NaN</td>\n",
              "      <td>NaN</td>\n",
              "      <td>788062452013412352</td>\n",
              "      <td>NaN</td>\n",
              "      <td>NaN</td>\n",
              "      <td>NaN</td>\n",
              "      <td>NaN</td>\n",
              "      <td>...</td>\n",
              "      <td>NaN</td>\n",
              "      <td>NaN</td>\n",
              "      <td>NaN</td>\n",
              "      <td>NaN</td>\n",
              "      <td>NaN</td>\n",
              "      <td>NaN</td>\n",
              "      <td>NaN</td>\n",
              "      <td>2023-02-07T14:14:38+00:00</td>\n",
              "      <td>https://api.twitter.com/2/tweets/search/all?ex...</td>\n",
              "      <td>2.13.0</td>\n",
              "    </tr>\n",
              "    <tr>\n",
              "      <th>4</th>\n",
              "      <td>1476468420237422596</td>\n",
              "      <td>1476468420237422596</td>\n",
              "      <td>NaN</td>\n",
              "      <td>NaN</td>\n",
              "      <td>NaN</td>\n",
              "      <td>869394542725701634</td>\n",
              "      <td>NaN</td>\n",
              "      <td>NaN</td>\n",
              "      <td>NaN</td>\n",
              "      <td>NaN</td>\n",
              "      <td>...</td>\n",
              "      <td>NaN</td>\n",
              "      <td>NaN</td>\n",
              "      <td>NaN</td>\n",
              "      <td>NaN</td>\n",
              "      <td>NaN</td>\n",
              "      <td>NaN</td>\n",
              "      <td>NaN</td>\n",
              "      <td>2023-02-07T14:14:38+00:00</td>\n",
              "      <td>https://api.twitter.com/2/tweets/search/all?ex...</td>\n",
              "      <td>2.13.0</td>\n",
              "    </tr>\n",
              "    <tr>\n",
              "      <th>6</th>\n",
              "      <td>1476379092832370692</td>\n",
              "      <td>1476254547404374025</td>\n",
              "      <td>1.476364e+18</td>\n",
              "      <td>NaN</td>\n",
              "      <td>NaN</td>\n",
              "      <td>47552449</td>\n",
              "      <td>1.448750e+18</td>\n",
              "      <td>NaN</td>\n",
              "      <td>NaN</td>\n",
              "      <td>NaN</td>\n",
              "      <td>...</td>\n",
              "      <td>NaN</td>\n",
              "      <td>NaN</td>\n",
              "      <td>NaN</td>\n",
              "      <td>NaN</td>\n",
              "      <td>NaN</td>\n",
              "      <td>NaN</td>\n",
              "      <td>NaN</td>\n",
              "      <td>2023-02-07T14:14:38+00:00</td>\n",
              "      <td>https://api.twitter.com/2/tweets/search/all?ex...</td>\n",
              "      <td>2.13.0</td>\n",
              "    </tr>\n",
              "    <tr>\n",
              "      <th>7</th>\n",
              "      <td>1476343829691256835</td>\n",
              "      <td>1476343829691256835</td>\n",
              "      <td>NaN</td>\n",
              "      <td>NaN</td>\n",
              "      <td>NaN</td>\n",
              "      <td>801569962921955328</td>\n",
              "      <td>NaN</td>\n",
              "      <td>NaN</td>\n",
              "      <td>NaN</td>\n",
              "      <td>NaN</td>\n",
              "      <td>...</td>\n",
              "      <td>NaN</td>\n",
              "      <td>NaN</td>\n",
              "      <td>NaN</td>\n",
              "      <td>NaN</td>\n",
              "      <td>NaN</td>\n",
              "      <td>NaN</td>\n",
              "      <td>NaN</td>\n",
              "      <td>2023-02-07T14:14:38+00:00</td>\n",
              "      <td>https://api.twitter.com/2/tweets/search/all?ex...</td>\n",
              "      <td>2.13.0</td>\n",
              "    </tr>\n",
              "    <tr>\n",
              "      <th>...</th>\n",
              "      <td>...</td>\n",
              "      <td>...</td>\n",
              "      <td>...</td>\n",
              "      <td>...</td>\n",
              "      <td>...</td>\n",
              "      <td>...</td>\n",
              "      <td>...</td>\n",
              "      <td>...</td>\n",
              "      <td>...</td>\n",
              "      <td>...</td>\n",
              "      <td>...</td>\n",
              "      <td>...</td>\n",
              "      <td>...</td>\n",
              "      <td>...</td>\n",
              "      <td>...</td>\n",
              "      <td>...</td>\n",
              "      <td>...</td>\n",
              "      <td>...</td>\n",
              "      <td>...</td>\n",
              "      <td>...</td>\n",
              "      <td>...</td>\n",
              "    </tr>\n",
              "    <tr>\n",
              "      <th>18681</th>\n",
              "      <td>1399746888757305347</td>\n",
              "      <td>1399746888757305347</td>\n",
              "      <td>NaN</td>\n",
              "      <td>NaN</td>\n",
              "      <td>NaN</td>\n",
              "      <td>1218142222098599938</td>\n",
              "      <td>NaN</td>\n",
              "      <td>NaN</td>\n",
              "      <td>NaN</td>\n",
              "      <td>NaN</td>\n",
              "      <td>...</td>\n",
              "      <td>NaN</td>\n",
              "      <td>NaN</td>\n",
              "      <td>NaN</td>\n",
              "      <td>NaN</td>\n",
              "      <td>NaN</td>\n",
              "      <td>NaN</td>\n",
              "      <td>NaN</td>\n",
              "      <td>2023-02-07T14:30:48+00:00</td>\n",
              "      <td>https://api.twitter.com/2/tweets/search/all?ex...</td>\n",
              "      <td>2.13.0</td>\n",
              "    </tr>\n",
              "    <tr>\n",
              "      <th>18682</th>\n",
              "      <td>1399706320333271041</td>\n",
              "      <td>1399284292077772800</td>\n",
              "      <td>1.399701e+18</td>\n",
              "      <td>NaN</td>\n",
              "      <td>NaN</td>\n",
              "      <td>769423247725109248</td>\n",
              "      <td>1.936243e+07</td>\n",
              "      <td>NewMumOnline</td>\n",
              "      <td>NaN</td>\n",
              "      <td>NaN</td>\n",
              "      <td>...</td>\n",
              "      <td>NaN</td>\n",
              "      <td>NaN</td>\n",
              "      <td>NaN</td>\n",
              "      <td>NaN</td>\n",
              "      <td>NaN</td>\n",
              "      <td>NaN</td>\n",
              "      <td>NaN</td>\n",
              "      <td>2023-02-07T14:30:48+00:00</td>\n",
              "      <td>https://api.twitter.com/2/tweets/search/all?ex...</td>\n",
              "      <td>2.13.0</td>\n",
              "    </tr>\n",
              "    <tr>\n",
              "      <th>18683</th>\n",
              "      <td>1399700649965539330</td>\n",
              "      <td>1399428604078006281</td>\n",
              "      <td>1.399698e+18</td>\n",
              "      <td>NaN</td>\n",
              "      <td>NaN</td>\n",
              "      <td>1344219879428206592</td>\n",
              "      <td>3.150105e+08</td>\n",
              "      <td>ckfinite</td>\n",
              "      <td>NaN</td>\n",
              "      <td>NaN</td>\n",
              "      <td>...</td>\n",
              "      <td>NaN</td>\n",
              "      <td>NaN</td>\n",
              "      <td>NaN</td>\n",
              "      <td>NaN</td>\n",
              "      <td>NaN</td>\n",
              "      <td>NaN</td>\n",
              "      <td>NaN</td>\n",
              "      <td>2023-02-07T14:30:48+00:00</td>\n",
              "      <td>https://api.twitter.com/2/tweets/search/all?ex...</td>\n",
              "      <td>2.13.0</td>\n",
              "    </tr>\n",
              "    <tr>\n",
              "      <th>18685</th>\n",
              "      <td>1399652589453680642</td>\n",
              "      <td>1399652589453680642</td>\n",
              "      <td>NaN</td>\n",
              "      <td>NaN</td>\n",
              "      <td>NaN</td>\n",
              "      <td>833942719</td>\n",
              "      <td>NaN</td>\n",
              "      <td>NaN</td>\n",
              "      <td>NaN</td>\n",
              "      <td>NaN</td>\n",
              "      <td>...</td>\n",
              "      <td>NaN</td>\n",
              "      <td>NaN</td>\n",
              "      <td>NaN</td>\n",
              "      <td>NaN</td>\n",
              "      <td>NaN</td>\n",
              "      <td>NaN</td>\n",
              "      <td>NaN</td>\n",
              "      <td>2023-02-07T14:30:48+00:00</td>\n",
              "      <td>https://api.twitter.com/2/tweets/search/all?ex...</td>\n",
              "      <td>2.13.0</td>\n",
              "    </tr>\n",
              "    <tr>\n",
              "      <th>18687</th>\n",
              "      <td>1399608476851228675</td>\n",
              "      <td>1395741936141717504</td>\n",
              "      <td>1.395742e+18</td>\n",
              "      <td>NaN</td>\n",
              "      <td>NaN</td>\n",
              "      <td>4181515517</td>\n",
              "      <td>2.415347e+08</td>\n",
              "      <td>YardleyShooting</td>\n",
              "      <td>NaN</td>\n",
              "      <td>NaN</td>\n",
              "      <td>...</td>\n",
              "      <td>NaN</td>\n",
              "      <td>NaN</td>\n",
              "      <td>NaN</td>\n",
              "      <td>NaN</td>\n",
              "      <td>NaN</td>\n",
              "      <td>NaN</td>\n",
              "      <td>NaN</td>\n",
              "      <td>2023-02-07T14:30:48+00:00</td>\n",
              "      <td>https://api.twitter.com/2/tweets/search/all?ex...</td>\n",
              "      <td>2.13.0</td>\n",
              "    </tr>\n",
              "  </tbody>\n",
              "</table>\n",
              "<p>2619 rows × 83 columns</p>\n",
              "</div>\n",
              "      <button class=\"colab-df-convert\" onclick=\"convertToInteractive('df-31f7ccb9-8de2-4e06-9300-14570fbd9ab6')\"\n",
              "              title=\"Convert this dataframe to an interactive table.\"\n",
              "              style=\"display:none;\">\n",
              "        \n",
              "  <svg xmlns=\"http://www.w3.org/2000/svg\" height=\"24px\"viewBox=\"0 0 24 24\"\n",
              "       width=\"24px\">\n",
              "    <path d=\"M0 0h24v24H0V0z\" fill=\"none\"/>\n",
              "    <path d=\"M18.56 5.44l.94 2.06.94-2.06 2.06-.94-2.06-.94-.94-2.06-.94 2.06-2.06.94zm-11 1L8.5 8.5l.94-2.06 2.06-.94-2.06-.94L8.5 2.5l-.94 2.06-2.06.94zm10 10l.94 2.06.94-2.06 2.06-.94-2.06-.94-.94-2.06-.94 2.06-2.06.94z\"/><path d=\"M17.41 7.96l-1.37-1.37c-.4-.4-.92-.59-1.43-.59-.52 0-1.04.2-1.43.59L10.3 9.45l-7.72 7.72c-.78.78-.78 2.05 0 2.83L4 21.41c.39.39.9.59 1.41.59.51 0 1.02-.2 1.41-.59l7.78-7.78 2.81-2.81c.8-.78.8-2.07 0-2.86zM5.41 20L4 18.59l7.72-7.72 1.47 1.35L5.41 20z\"/>\n",
              "  </svg>\n",
              "      </button>\n",
              "      \n",
              "  <style>\n",
              "    .colab-df-container {\n",
              "      display:flex;\n",
              "      flex-wrap:wrap;\n",
              "      gap: 12px;\n",
              "    }\n",
              "\n",
              "    .colab-df-convert {\n",
              "      background-color: #E8F0FE;\n",
              "      border: none;\n",
              "      border-radius: 50%;\n",
              "      cursor: pointer;\n",
              "      display: none;\n",
              "      fill: #1967D2;\n",
              "      height: 32px;\n",
              "      padding: 0 0 0 0;\n",
              "      width: 32px;\n",
              "    }\n",
              "\n",
              "    .colab-df-convert:hover {\n",
              "      background-color: #E2EBFA;\n",
              "      box-shadow: 0px 1px 2px rgba(60, 64, 67, 0.3), 0px 1px 3px 1px rgba(60, 64, 67, 0.15);\n",
              "      fill: #174EA6;\n",
              "    }\n",
              "\n",
              "    [theme=dark] .colab-df-convert {\n",
              "      background-color: #3B4455;\n",
              "      fill: #D2E3FC;\n",
              "    }\n",
              "\n",
              "    [theme=dark] .colab-df-convert:hover {\n",
              "      background-color: #434B5C;\n",
              "      box-shadow: 0px 1px 3px 1px rgba(0, 0, 0, 0.15);\n",
              "      filter: drop-shadow(0px 1px 2px rgba(0, 0, 0, 0.3));\n",
              "      fill: #FFFFFF;\n",
              "    }\n",
              "  </style>\n",
              "\n",
              "      <script>\n",
              "        const buttonEl =\n",
              "          document.querySelector('#df-31f7ccb9-8de2-4e06-9300-14570fbd9ab6 button.colab-df-convert');\n",
              "        buttonEl.style.display =\n",
              "          google.colab.kernel.accessAllowed ? 'block' : 'none';\n",
              "\n",
              "        async function convertToInteractive(key) {\n",
              "          const element = document.querySelector('#df-31f7ccb9-8de2-4e06-9300-14570fbd9ab6');\n",
              "          const dataTable =\n",
              "            await google.colab.kernel.invokeFunction('convertToInteractive',\n",
              "                                                     [key], {});\n",
              "          if (!dataTable) return;\n",
              "\n",
              "          const docLinkHtml = 'Like what you see? Visit the ' +\n",
              "            '<a target=\"_blank\" href=https://colab.research.google.com/notebooks/data_table.ipynb>data table notebook</a>'\n",
              "            + ' to learn more about interactive tables.';\n",
              "          element.innerHTML = '';\n",
              "          dataTable['output_type'] = 'display_data';\n",
              "          await google.colab.output.renderOutput(dataTable, element);\n",
              "          const docLink = document.createElement('div');\n",
              "          docLink.innerHTML = docLinkHtml;\n",
              "          element.appendChild(docLink);\n",
              "        }\n",
              "      </script>\n",
              "    </div>\n",
              "  </div>\n",
              "  "
            ]
          },
          "metadata": {},
          "execution_count": 14
        }
      ]
    },
    {
      "cell_type": "code",
      "source": [
        "data.columns"
      ],
      "metadata": {
        "colab": {
          "base_uri": "https://localhost:8080/"
        },
        "id": "klgSxzPRvPwL",
        "outputId": "ad757c82-5bcd-4774-815f-c012ca3c7439"
      },
      "execution_count": null,
      "outputs": [
        {
          "output_type": "execute_result",
          "data": {
            "text/plain": [
              "Index(['id', 'conversation_id', 'referenced_tweets.replied_to.id',\n",
              "       'referenced_tweets.retweeted.id', 'referenced_tweets.quoted.id',\n",
              "       'author_id', 'in_reply_to_user_id', 'in_reply_to_username',\n",
              "       'retweeted_user_id', 'retweeted_username', 'quoted_user_id',\n",
              "       'quoted_username', 'created_at', 'text', 'lang', 'source',\n",
              "       'public_metrics.impression_count', 'public_metrics.reply_count',\n",
              "       'public_metrics.retweet_count', 'public_metrics.quote_count',\n",
              "       'public_metrics.like_count', 'reply_settings', 'edit_history_tweet_ids',\n",
              "       'edit_controls.edits_remaining', 'edit_controls.editable_until',\n",
              "       'edit_controls.is_edit_eligible', 'possibly_sensitive',\n",
              "       'withheld.scope', 'withheld.copyright', 'withheld.country_codes',\n",
              "       'entities.annotations', 'entities.cashtags', 'entities.hashtags',\n",
              "       'entities.mentions', 'entities.urls', 'context_annotations',\n",
              "       'attachments.media', 'attachments.media_keys',\n",
              "       'attachments.poll.duration_minutes', 'attachments.poll.end_datetime',\n",
              "       'attachments.poll.id', 'attachments.poll.options',\n",
              "       'attachments.poll.voting_status', 'attachments.poll_ids', 'author.id',\n",
              "       'author.created_at', 'author.username', 'author.name',\n",
              "       'author.description', 'author.entities.description.cashtags',\n",
              "       'author.entities.description.hashtags',\n",
              "       'author.entities.description.mentions',\n",
              "       'author.entities.description.urls', 'author.entities.url.urls',\n",
              "       'author.url', 'author.location', 'author.pinned_tweet_id',\n",
              "       'author.profile_image_url', 'author.protected',\n",
              "       'author.public_metrics.followers_count',\n",
              "       'author.public_metrics.following_count',\n",
              "       'author.public_metrics.listed_count',\n",
              "       'author.public_metrics.tweet_count', 'author.verified',\n",
              "       'author.verified_type', 'author.withheld.scope',\n",
              "       'author.withheld.copyright', 'author.withheld.country_codes',\n",
              "       'geo.coordinates.coordinates', 'geo.coordinates.type', 'geo.country',\n",
              "       'geo.country_code', 'geo.full_name', 'geo.geo.bbox', 'geo.geo.type',\n",
              "       'geo.id', 'geo.name', 'geo.place_id', 'geo.place_type',\n",
              "       'matching_rules', '__twarc.retrieved_at', '__twarc.url',\n",
              "       '__twarc.version'],\n",
              "      dtype='object')"
            ]
          },
          "metadata": {},
          "execution_count": 15
        }
      ]
    },
    {
      "cell_type": "code",
      "source": [
        "data[\"date\"] = pd.to_datetime(data['created_at'])\n",
        "data[\"num\"] = 1"
      ],
      "metadata": {
        "id": "kaF3PoDdxTQy"
      },
      "execution_count": null,
      "outputs": []
    },
    {
      "cell_type": "code",
      "source": [
        "data.set_index(\"date\")[\"num\"].resample(\"d\").sum().plot(figsize=(10,3))"
      ],
      "metadata": {
        "colab": {
          "base_uri": "https://localhost:8080/",
          "height": 254
        },
        "id": "Mle3yyI-xfK7",
        "outputId": "e7232dd5-ccf9-4781-ca6f-b9bd6d2fcdc3"
      },
      "execution_count": null,
      "outputs": [
        {
          "output_type": "execute_result",
          "data": {
            "text/plain": [
              "<AxesSubplot:xlabel='date'>"
            ]
          },
          "metadata": {},
          "execution_count": 17
        },
        {
          "output_type": "display_data",
          "data": {
            "text/plain": [
              "<Figure size 720x216 with 1 Axes>"
            ],
            "image/png": "[encoded data removed]"
          },
          "metadata": {
            "needs_background": "light"
          }
        }
      ]
    },
    {
      "cell_type": "code",
      "source": [
        "import requests\n",
        "class Tweet(object):\n",
        "    \"\"\"\n",
        "    Object to visualize a specific tweet\n",
        "    \"\"\"\n",
        "    def __init__(self, s):\n",
        "        \"\"\"\n",
        "        s : id of a tweet\n",
        "        \"\"\"\n",
        "        s = f\"https://twitter.com/OReillyMedia/status/{s}\"\n",
        "        api = 'https://publish.twitter.com/oembed?url={}'.format(s)\n",
        "        response = requests.get(api)\n",
        "        self.text = response.json()[\"html\"]\n",
        "\n",
        "    def _repr_html_(self):\n",
        "        return self.text"
      ],
      "metadata": {
        "id": "Zobg6ab41PLQ"
      },
      "execution_count": null,
      "outputs": []
    },
    {
      "cell_type": "code",
      "source": [
        "Tweet(data.iloc[1000][\"id\"])"
      ],
      "metadata": {
        "colab": {
          "base_uri": "https://localhost:8080/",
          "height": 735
        },
        "id": "l_TGxeqp1U2i",
        "outputId": "1a5c8760-0a7f-49ca-f66f-76eeefd59172"
      },
      "execution_count": null,
      "outputs": [
        {
          "output_type": "execute_result",
          "data": {
            "text/plain": [
              "<__main__.Tweet at 0x7f272a9d61f0>"
            ],
            "text/html": [
              "<blockquote class=\"twitter-tweet\"><p lang=\"en\" dir=\"ltr\">&quot;Patients presenting with increased bruising, in the setting of recent COVID-19 vaccine administration, should be screened for vaccine-induced thrombocytopenia (VITT): <a href=\"https://t.co/sMN885lOxW\">https://t.co/sMN885lOxW</a><a href=\"https://twitter.com/hashtag/CovidVaccine?src=hash&amp;ref_src=twsrc%5Etfw\">#CovidVaccine</a> <a href=\"https://twitter.com/hashtag/COVIDVaccination?src=hash&amp;ref_src=twsrc%5Etfw\">#COVIDVaccination</a> <a href=\"https://t.co/Sx1iRjS1r5\">pic.twitter.com/Sx1iRjS1r5</a></p>&mdash; Dr John B. (@DrJohnB2) <a href=\"https://twitter.com/DrJohnB2/status/1464593895271059464?ref_src=twsrc%5Etfw\">November 27, 2021</a></blockquote>\n",
              "<script async src=\"https://platform.twitter.com/widgets.js\" charset=\"utf-8\"></script>\n"
            ]
          },
          "metadata": {},
          "execution_count": 19
        }
      ]
    },
    {
      "cell_type": "code",
      "source": [
        "Tweet(data.iloc[1000][\"id\"]) "
      ],
      "metadata": {
        "colab": {
          "base_uri": "https://localhost:8080/",
          "height": 735
        },
        "id": "JBKAyLtw2UMb",
        "outputId": "670381f0-2f99-4f33-ed12-29a52934cde7"
      },
      "execution_count": null,
      "outputs": [
        {
          "output_type": "execute_result",
          "data": {
            "text/plain": [
              "<__main__.Tweet at 0x7f2727e17100>"
            ],
            "text/html": [
              "<blockquote class=\"twitter-tweet\"><p lang=\"en\" dir=\"ltr\">&quot;Patients presenting with increased bruising, in the setting of recent COVID-19 vaccine administration, should be screened for vaccine-induced thrombocytopenia (VITT): <a href=\"https://t.co/sMN885lOxW\">https://t.co/sMN885lOxW</a><a href=\"https://twitter.com/hashtag/CovidVaccine?src=hash&amp;ref_src=twsrc%5Etfw\">#CovidVaccine</a> <a href=\"https://twitter.com/hashtag/COVIDVaccination?src=hash&amp;ref_src=twsrc%5Etfw\">#COVIDVaccination</a> <a href=\"https://t.co/Sx1iRjS1r5\">pic.twitter.com/Sx1iRjS1r5</a></p>&mdash; Dr John B. (@DrJohnB2) <a href=\"https://twitter.com/DrJohnB2/status/1464593895271059464?ref_src=twsrc%5Etfw\">November 27, 2021</a></blockquote>\n",
              "<script async src=\"https://platform.twitter.com/widgets.js\" charset=\"utf-8\"></script>\n"
            ]
          },
          "metadata": {},
          "execution_count": 21
        }
      ]
    },
    {
      "cell_type": "code",
      "source": [
        "Tweet(data.iloc[100][\"id\"]) "
      ],
      "metadata": {
        "colab": {
          "base_uri": "https://localhost:8080/",
          "height": 766
        },
        "id": "zf_jwlQh3Ov7",
        "outputId": "6c0728b7-cd77-4f7c-9c8c-125200cf46b4"
      },
      "execution_count": null,
      "outputs": [
        {
          "output_type": "execute_result",
          "data": {
            "text/plain": [
              "<__main__.Tweet at 0x7f2727e17e20>"
            ],
            "text/html": [
              "<blockquote class=\"twitter-tweet\"><p lang=\"ja\" dir=\"ltr\">脳の静脈に血栓が生じる脳静脈洞血栓症CVSTが、ワクチン接種後に起き、英では30人以上が死亡、ワクチン起因性免疫性血小板減少症VITTと命名。J＆JとAZのベクターワクで問題とされたが実はファイザーなどｍRNAワクでも100万人中4例起きる。日本でも見られ被害救済対象とすべき<a href=\"https://t.co/1mO82LmKWc\">https://t.co/1mO82LmKWc</a></p>&mdash; 青山 まさゆき (@my_fc1) <a href=\"https://twitter.com/my_fc1/status/1472034551040212994?ref_src=twsrc%5Etfw\">December 18, 2021</a></blockquote>\n",
              "<script async src=\"https://platform.twitter.com/widgets.js\" charset=\"utf-8\"></script>\n"
            ]
          },
          "metadata": {},
          "execution_count": 22
        }
      ]
    },
    {
      "cell_type": "code",
      "source": [
        "f_or = pd.isnull(data['referenced_tweets.retweeted.id'])\n",
        "f_or.sum()\n"
      ],
      "metadata": {
        "colab": {
          "base_uri": "https://localhost:8080/"
        },
        "id": "itTeoH3p3jNV",
        "outputId": "884d1fe3-f97c-4eb1-d398-959864a34a19"
      },
      "execution_count": null,
      "outputs": [
        {
          "output_type": "execute_result",
          "data": {
            "text/plain": [
              "2695"
            ]
          },
          "metadata": {},
          "execution_count": 23
        }
      ]
    },
    {
      "cell_type": "code",
      "source": [
        "2695/len(data)"
      ],
      "metadata": {
        "colab": {
          "base_uri": "https://localhost:8080/"
        },
        "id": "KDmn5LkL97Mr",
        "outputId": "39dd740a-aea0-4bb2-dfd1-b632971d8d51"
      },
      "execution_count": null,
      "outputs": [
        {
          "output_type": "execute_result",
          "data": {
            "text/plain": [
              "0.14420247204237788"
            ]
          },
          "metadata": {},
          "execution_count": 24
        }
      ]
    },
    {
      "cell_type": "code",
      "source": [
        "data['lang'].value_counts().head()\n"
      ],
      "metadata": {
        "colab": {
          "base_uri": "https://localhost:8080/"
        },
        "id": "NQn6R6hy-SCI",
        "outputId": "3c4e2c46-0fb0-40c2-cd7a-6316c66d2b7c"
      },
      "execution_count": null,
      "outputs": [
        {
          "output_type": "execute_result",
          "data": {
            "text/plain": [
              "en     16199\n",
              "th       818\n",
              "ja       509\n",
              "it       364\n",
              "qme      206\n",
              "Name: lang, dtype: int64"
            ]
          },
          "metadata": {},
          "execution_count": 25
        }
      ]
    },
    {
      "cell_type": "code",
      "source": [
        "data = data[data['lang']==\"fr\"]\n",
        "len(data)"
      ],
      "metadata": {
        "colab": {
          "base_uri": "https://localhost:8080/"
        },
        "id": "VQ2qlzcS_UDp",
        "outputId": "23f94e0c-4211-478e-c21b-2356a62e31f0"
      },
      "execution_count": null,
      "outputs": [
        {
          "output_type": "execute_result",
          "data": {
            "text/plain": [
              "76"
            ]
          },
          "metadata": {},
          "execution_count": 26
        }
      ]
    },
    {
      "cell_type": "code",
      "source": [
        "data['author.username'].value_counts()"
      ],
      "metadata": {
        "colab": {
          "base_uri": "https://localhost:8080/"
        },
        "id": "njZcMn1U_hAJ",
        "outputId": "0e7b9340-4b61-4f1a-8e9d-3a865877d94e"
      },
      "execution_count": null,
      "outputs": [
        {
          "output_type": "execute_result",
          "data": {
            "text/plain": [
              "Melyde2            13\n",
              "hippocritus         5\n",
              "mdrechsler          2\n",
              "Jul101Vie           2\n",
              "MavaSgh             1\n",
              "inihcnarf           1\n",
              "SoniaNo44831187     1\n",
              "grandosek           1\n",
              "NaiseMayen          1\n",
              "kittylt             1\n",
              "lrestistant73       1\n",
              "rhum97              1\n",
              "elias_herel         1\n",
              "martinpeach7        1\n",
              "BrunaudOdette       1\n",
              "guida_jacques       1\n",
              "Math3145            1\n",
              "LeahCMa             1\n",
              "chriss17031         1\n",
              "bob46446691         1\n",
              "Nitroba30704324     1\n",
              "david_little44      1\n",
              "Azeria64Azeria      1\n",
              "mioliocliogo        1\n",
              "sara_arrue          1\n",
              "Mantha38637924      1\n",
              "DeGrahamdetroy      1\n",
              "AlloVaccin          1\n",
              "decailletj1977      1\n",
              "MikiLaMalice        1\n",
              "105percent          1\n",
              "GenibrelSophie      1\n",
              "Kawa_khan           1\n",
              "JohnSmi91244570     1\n",
              "KZaaaH              1\n",
              "Louan07             1\n",
              "LoriBlaney          1\n",
              "MDeLille1           1\n",
              "Rustybe96849965     1\n",
              "azrayagmur2009      1\n",
              "Launayjeanpier2     1\n",
              "Erdnc88737710       1\n",
              "LeRelayeurFranc     1\n",
              "_2019_nCoV          1\n",
              "pettet50            1\n",
              "Margherita_PPP      1\n",
              "DanieSteimer        1\n",
              "KriefKriefbis       1\n",
              "Plyrique            1\n",
              "M1ckM3rs            1\n",
              "MamyColibri         1\n",
              "SupiotMaxime        1\n",
              "ReveillonV          1\n",
              "metags3             1\n",
              "avril_sylvie        1\n",
              "scorp24211          1\n",
              "daredevil2007       1\n",
              "elyesben2           1\n",
              "Name: author.username, dtype: int64"
            ]
          },
          "metadata": {},
          "execution_count": 27
        }
      ]
    },
    {
      "cell_type": "code",
      "source": [
        "len(data['author.username'].unique())"
      ],
      "metadata": {
        "colab": {
          "base_uri": "https://localhost:8080/"
        },
        "id": "Sfwmw_M5_2aI",
        "outputId": "5dbec1f5-6073-400d-bdfc-6ff2581b0fcf"
      },
      "execution_count": null,
      "outputs": [
        {
          "output_type": "execute_result",
          "data": {
            "text/plain": [
              "58"
            ]
          },
          "metadata": {},
          "execution_count": 28
        }
      ]
    },
    {
      "cell_type": "code",
      "source": [
        "data['author.username'].value_counts().hist(bins=100)"
      ],
      "metadata": {
        "colab": {
          "base_uri": "https://localhost:8080/",
          "height": 282
        },
        "id": "9_lmlt5sAExR",
        "outputId": "0418cd6f-280b-4e14-f2f6-a9a9ff3b5844"
      },
      "execution_count": null,
      "outputs": [
        {
          "output_type": "execute_result",
          "data": {
            "text/plain": [
              "<AxesSubplot:>"
            ]
          },
          "metadata": {},
          "execution_count": 29
        },
        {
          "output_type": "display_data",
          "data": {
            "text/plain": [
              "<Figure size 432x288 with 1 Axes>"
            ],
            "image/png": "[encoded data removed]"
          },
          "metadata": {
            "needs_background": "light"
          }
        }
      ]
    },
    {
      "cell_type": "code",
      "source": [
        "data[[\"id\",'public_metrics.retweet_count']].sort_values('public_metrics.retweet_count',\n",
        "                                                        ascending=False)"
      ],
      "metadata": {
        "colab": {
          "base_uri": "https://localhost:8080/",
          "height": 424
        },
        "id": "9ZOnpc0iAVqm",
        "outputId": "c898aee0-72a4-4638-833e-13c5070ca2e5"
      },
      "execution_count": null,
      "outputs": [
        {
          "output_type": "execute_result",
          "data": {
            "text/plain": [
              "                        id  public_metrics.retweet_count\n",
              "17529  1409006140764180483                           221\n",
              "17517  1409063523200679937                           221\n",
              "10365  1432813139117101064                            19\n",
              "10359  1432816724374601729                            19\n",
              "10336  1432914776510935046                            19\n",
              "...                    ...                           ...\n",
              "13274  1424287165928943622                             0\n",
              "12820  1430608160453275654                             0\n",
              "10394  1432732939893231621                             0\n",
              "6203   1444846344615694338                             0\n",
              "18376  1400067923557879808                             0\n",
              "\n",
              "[76 rows x 2 columns]"
            ],
            "text/html": [
              "\n",
              "  <div id=\"df-26067eca-92bc-4de7-92bf-0dbed095a3de\">\n",
              "    <div class=\"colab-df-container\">\n",
              "      <div>\n",
              "<style scoped>\n",
              "    .dataframe tbody tr th:only-of-type {\n",
              "        vertical-align: middle;\n",
              "    }\n",
              "\n",
              "    .dataframe tbody tr th {\n",
              "        vertical-align: top;\n",
              "    }\n",
              "\n",
              "    .dataframe thead th {\n",
              "        text-align: right;\n",
              "    }\n",
              "</style>\n",
              "<table border=\"1\" class=\"dataframe\">\n",
              "  <thead>\n",
              "    <tr style=\"text-align: right;\">\n",
              "      <th></th>\n",
              "      <th>id</th>\n",
              "      <th>public_metrics.retweet_count</th>\n",
              "    </tr>\n",
              "  </thead>\n",
              "  <tbody>\n",
              "    <tr>\n",
              "      <th>17529</th>\n",
              "      <td>1409006140764180483</td>\n",
              "      <td>221</td>\n",
              "    </tr>\n",
              "    <tr>\n",
              "      <th>17517</th>\n",
              "      <td>1409063523200679937</td>\n",
              "      <td>221</td>\n",
              "    </tr>\n",
              "    <tr>\n",
              "      <th>10365</th>\n",
              "      <td>1432813139117101064</td>\n",
              "      <td>19</td>\n",
              "    </tr>\n",
              "    <tr>\n",
              "      <th>10359</th>\n",
              "      <td>1432816724374601729</td>\n",
              "      <td>19</td>\n",
              "    </tr>\n",
              "    <tr>\n",
              "      <th>10336</th>\n",
              "      <td>1432914776510935046</td>\n",
              "      <td>19</td>\n",
              "    </tr>\n",
              "    <tr>\n",
              "      <th>...</th>\n",
              "      <td>...</td>\n",
              "      <td>...</td>\n",
              "    </tr>\n",
              "    <tr>\n",
              "      <th>13274</th>\n",
              "      <td>1424287165928943622</td>\n",
              "      <td>0</td>\n",
              "    </tr>\n",
              "    <tr>\n",
              "      <th>12820</th>\n",
              "      <td>1430608160453275654</td>\n",
              "      <td>0</td>\n",
              "    </tr>\n",
              "    <tr>\n",
              "      <th>10394</th>\n",
              "      <td>1432732939893231621</td>\n",
              "      <td>0</td>\n",
              "    </tr>\n",
              "    <tr>\n",
              "      <th>6203</th>\n",
              "      <td>1444846344615694338</td>\n",
              "      <td>0</td>\n",
              "    </tr>\n",
              "    <tr>\n",
              "      <th>18376</th>\n",
              "      <td>1400067923557879808</td>\n",
              "      <td>0</td>\n",
              "    </tr>\n",
              "  </tbody>\n",
              "</table>\n",
              "<p>76 rows × 2 columns</p>\n",
              "</div>\n",
              "      <button class=\"colab-df-convert\" onclick=\"convertToInteractive('df-26067eca-92bc-4de7-92bf-0dbed095a3de')\"\n",
              "              title=\"Convert this dataframe to an interactive table.\"\n",
              "              style=\"display:none;\">\n",
              "        \n",
              "  <svg xmlns=\"http://www.w3.org/2000/svg\" height=\"24px\"viewBox=\"0 0 24 24\"\n",
              "       width=\"24px\">\n",
              "    <path d=\"M0 0h24v24H0V0z\" fill=\"none\"/>\n",
              "    <path d=\"M18.56 5.44l.94 2.06.94-2.06 2.06-.94-2.06-.94-.94-2.06-.94 2.06-2.06.94zm-11 1L8.5 8.5l.94-2.06 2.06-.94-2.06-.94L8.5 2.5l-.94 2.06-2.06.94zm10 10l.94 2.06.94-2.06 2.06-.94-2.06-.94-.94-2.06-.94 2.06-2.06.94z\"/><path d=\"M17.41 7.96l-1.37-1.37c-.4-.4-.92-.59-1.43-.59-.52 0-1.04.2-1.43.59L10.3 9.45l-7.72 7.72c-.78.78-.78 2.05 0 2.83L4 21.41c.39.39.9.59 1.41.59.51 0 1.02-.2 1.41-.59l7.78-7.78 2.81-2.81c.8-.78.8-2.07 0-2.86zM5.41 20L4 18.59l7.72-7.72 1.47 1.35L5.41 20z\"/>\n",
              "  </svg>\n",
              "      </button>\n",
              "      \n",
              "  <style>\n",
              "    .colab-df-container {\n",
              "      display:flex;\n",
              "      flex-wrap:wrap;\n",
              "      gap: 12px;\n",
              "    }\n",
              "\n",
              "    .colab-df-convert {\n",
              "      background-color: #E8F0FE;\n",
              "      border: none;\n",
              "      border-radius: 50%;\n",
              "      cursor: pointer;\n",
              "      display: none;\n",
              "      fill: #1967D2;\n",
              "      height: 32px;\n",
              "      padding: 0 0 0 0;\n",
              "      width: 32px;\n",
              "    }\n",
              "\n",
              "    .colab-df-convert:hover {\n",
              "      background-color: #E2EBFA;\n",
              "      box-shadow: 0px 1px 2px rgba(60, 64, 67, 0.3), 0px 1px 3px 1px rgba(60, 64, 67, 0.15);\n",
              "      fill: #174EA6;\n",
              "    }\n",
              "\n",
              "    [theme=dark] .colab-df-convert {\n",
              "      background-color: #3B4455;\n",
              "      fill: #D2E3FC;\n",
              "    }\n",
              "\n",
              "    [theme=dark] .colab-df-convert:hover {\n",
              "      background-color: #434B5C;\n",
              "      box-shadow: 0px 1px 3px 1px rgba(0, 0, 0, 0.15);\n",
              "      filter: drop-shadow(0px 1px 2px rgba(0, 0, 0, 0.3));\n",
              "      fill: #FFFFFF;\n",
              "    }\n",
              "  </style>\n",
              "\n",
              "      <script>\n",
              "        const buttonEl =\n",
              "          document.querySelector('#df-26067eca-92bc-4de7-92bf-0dbed095a3de button.colab-df-convert');\n",
              "        buttonEl.style.display =\n",
              "          google.colab.kernel.accessAllowed ? 'block' : 'none';\n",
              "\n",
              "        async function convertToInteractive(key) {\n",
              "          const element = document.querySelector('#df-26067eca-92bc-4de7-92bf-0dbed095a3de');\n",
              "          const dataTable =\n",
              "            await google.colab.kernel.invokeFunction('convertToInteractive',\n",
              "                                                     [key], {});\n",
              "          if (!dataTable) return;\n",
              "\n",
              "          const docLinkHtml = 'Like what you see? Visit the ' +\n",
              "            '<a target=\"_blank\" href=https://colab.research.google.com/notebooks/data_table.ipynb>data table notebook</a>'\n",
              "            + ' to learn more about interactive tables.';\n",
              "          element.innerHTML = '';\n",
              "          dataTable['output_type'] = 'display_data';\n",
              "          await google.colab.output.renderOutput(dataTable, element);\n",
              "          const docLink = document.createElement('div');\n",
              "          docLink.innerHTML = docLinkHtml;\n",
              "          element.appendChild(docLink);\n",
              "        }\n",
              "      </script>\n",
              "    </div>\n",
              "  </div>\n",
              "  "
            ]
          },
          "metadata": {},
          "execution_count": 30
        }
      ]
    },
    {
      "cell_type": "code",
      "source": [
        "Tweet(1409006140764180483\t)"
      ],
      "metadata": {
        "colab": {
          "base_uri": "https://localhost:8080/",
          "height": 978
        },
        "id": "TY86aD0dA965",
        "outputId": "10f25b84-05a3-4b8b-9f58-4024b4de5852"
      },
      "execution_count": null,
      "outputs": [
        {
          "output_type": "execute_result",
          "data": {
            "text/plain": [
              "<__main__.Tweet at 0x7f2727c3d400>"
            ],
            "text/html": [
              "<blockquote class=\"twitter-tweet\"><p lang=\"fr\" dir=\"ltr\">2/Des troubles sanguins ont été rapportés avec des cas de thrombocytopénie<a href=\"https://t.co/9tDPR4Z15T\">https://t.co/9tDPR4Z15T</a></p>&mdash; Alexandra Henrion-Caude (@CaudeHenrion) <a href=\"https://twitter.com/CaudeHenrion/status/1395859146898120707?ref_src=twsrc%5Etfw\">May 21, 2021</a></blockquote>\n",
              "<script async src=\"https://platform.twitter.com/widgets.js\" charset=\"utf-8\"></script>\n"
            ]
          },
          "metadata": {},
          "execution_count": 33
        }
      ]
    },
    {
      "cell_type": "code",
      "source": [
        "import re # standard module for regular expression\n",
        "\n",
        "def extract_hashtags(text):\n",
        "    \"\"\"\n",
        "    function to extract hashtags in a text\n",
        "    \"\"\"\n",
        "    return re.findall(\"(#\\w+)\", text.lower())"
      ],
      "metadata": {
        "id": "lcX8N0utBeUS"
      },
      "execution_count": null,
      "outputs": []
    },
    {
      "cell_type": "code",
      "source": [
        "extract_hashtags(\"it is a sentence with an #hashtag\")"
      ],
      "metadata": {
        "colab": {
          "base_uri": "https://localhost:8080/"
        },
        "id": "0ex-wvCrCEOM",
        "outputId": "de6ee826-ce7f-4d11-d1f6-202f27636895"
      },
      "execution_count": null,
      "outputs": [
        {
          "output_type": "execute_result",
          "data": {
            "text/plain": [
              "['#hashtag']"
            ]
          },
          "metadata": {},
          "execution_count": 36
        }
      ]
    },
    {
      "cell_type": "markdown",
      "source": [],
      "metadata": {
        "id": "p7dsRuM9C6SF"
      }
    },
    {
      "cell_type": "code",
      "source": [
        "data[\"hashtags\"] = data['text'].str.lower().apply(extract_hashtags)"
      ],
      "metadata": {
        "id": "qZfDInKuCK7R"
      },
      "execution_count": null,
      "outputs": []
    },
    {
      "cell_type": "code",
      "source": [
        "data[\"hashtags\"]"
      ],
      "metadata": {
        "colab": {
          "base_uri": "https://localhost:8080/"
        },
        "id": "Qs2cVayLCQlb",
        "outputId": "125a78e5-928a-4977-fafc-f3797759785b"
      },
      "execution_count": null,
      "outputs": [
        {
          "output_type": "execute_result",
          "data": {
            "text/plain": [
              "2435     []\n",
              "6203     []\n",
              "8160     []\n",
              "8208     []\n",
              "8270     []\n",
              "         ..\n",
              "18007    []\n",
              "18102    []\n",
              "18109    []\n",
              "18144    []\n",
              "18376    []\n",
              "Name: hashtags, Length: 76, dtype: object"
            ]
          },
          "metadata": {},
          "execution_count": 38
        }
      ]
    },
    {
      "cell_type": "markdown",
      "source": [
        "## **Step 3 : Creating networks**\n",
        "The idea is to create networks to be analyzed in an other software **bold text**"
      ],
      "metadata": {
        "id": "2Mc-v361DBX6"
      }
    },
    {
      "cell_type": "code",
      "source": [
        "from itertools import combinations # create combinations of a set\n",
        "\n",
        "#pip install network\n",
        "import networkx as nx # library for network analysis in python"
      ],
      "metadata": {
        "id": "sGQS0x2WDZEv"
      },
      "execution_count": null,
      "outputs": []
    },
    {
      "cell_type": "markdown",
      "source": [
        "Non directed retweet\n",
        "I want to create a network with the properties :\n",
        "\n",
        "A node is created if a user tweet or retweet. If the user exist, I want to increase by one a parameter weight\n",
        "A link is created if a user retweet another one\n",
        "\n",
        "To create the network\n",
        "\n",
        "1. Create a graph empty\n",
        "2. I make a loop on all the tweets\n",
        "3. For each tweet, in create node/edge"
      ],
      "metadata": {
        "id": "VzA-UfAPDmQK"
      }
    },
    {
      "cell_type": "code",
      "source": [
        "network = nx.Graph()"
      ],
      "metadata": {
        "id": "vwi7az6JDo0a"
      },
      "execution_count": null,
      "outputs": []
    },
    {
      "cell_type": "code",
      "source": [
        "# create an empty network\n",
        "network_retweets = nx.Graph()\n",
        "\n",
        "# A loop for each tweet of my dataset\n",
        "for i, line in data.iterrows():\n",
        "    \n",
        "    # name of the user of the tweet\n",
        "    user = str(line[\"author.username\"])\n",
        "    \n",
        "    # is the user already in my network\n",
        "    if not user in network_retweets.nodes:\n",
        "        # if not, we add it with a weight of 1\n",
        "        network_retweets.add_node(user, label=user, weight=1)\n",
        "    else:\n",
        "        # if yes, i only increase its weight\n",
        "        network_retweets.nodes[user][\"weight\"] += 1    \n",
        "\n",
        "    # if the tweet is a retweet\n",
        "    if pd.notnull(line[\"retweeted_username\"]):\n",
        "\n",
        "        # the name of the user retweeted\n",
        "        reweet_user = str(line[\"retweeted_username\"])\n",
        "        \n",
        "        # if the retweeted user is not in the network\n",
        "        if not reweet_user in network_retweets.nodes:\n",
        "            # create a node\n",
        "            network_retweets.add_node(reweet_user, label=reweet_user, weight=1)\n",
        "        else:\n",
        "            # increase the node\n",
        "            network_retweets.nodes[reweet_user][\"weight\"] += 1  \n",
        "\n",
        "        # if there is a retweet\n",
        "        if pd.notnull(reweet_user):\n",
        "            \n",
        "            # if the edge between retweeted user and retweeting user not exist\n",
        "            if not network_retweets.has_edge(user, reweet_user):\n",
        "                # creating the edge\n",
        "                network_retweets.add_edge(user, reweet_user, weight=1)\n",
        "            else:\n",
        "                # increasing its weight\n",
        "                network_retweets[user][reweet_user][\"weight\"] += 1 "
      ],
      "metadata": {
        "id": "ChQLY0JCEstO"
      },
      "execution_count": null,
      "outputs": []
    },
    {
      "cell_type": "code",
      "source": [
        "len(network_retweets.edges)"
      ],
      "metadata": {
        "colab": {
          "base_uri": "https://localhost:8080/"
        },
        "id": "-YzTIMfEEzkr",
        "outputId": "46b21be6-0344-44d9-c271-39ecff6d9879"
      },
      "execution_count": null,
      "outputs": [
        {
          "output_type": "execute_result",
          "data": {
            "text/plain": [
              "42"
            ]
          },
          "metadata": {},
          "execution_count": 42
        }
      ]
    },
    {
      "cell_type": "code",
      "source": [
        "len(network_retweets.nodes)"
      ],
      "metadata": {
        "colab": {
          "base_uri": "https://localhost:8080/"
        },
        "id": "opJVKYJgE7Ry",
        "outputId": "071e0962-b0ae-40c2-a925-95d5a6c6c0f6"
      },
      "execution_count": null,
      "outputs": [
        {
          "output_type": "execute_result",
          "data": {
            "text/plain": [
              "59"
            ]
          },
          "metadata": {},
          "execution_count": 43
        }
      ]
    }
  ]
}