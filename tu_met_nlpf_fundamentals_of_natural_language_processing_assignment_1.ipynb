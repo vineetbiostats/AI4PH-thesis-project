{
  "nbformat": 4,
  "nbformat_minor": 0,
  "metadata": {
    "colab": {
      "provenance": [],
      "authorship_tag": "ABX9TyO7xyNQIcn42J6Bx+DZkmcO",
      "include_colab_link": true
    },
    "kernelspec": {
      "name": "python3",
      "display_name": "Python 3"
    },
    "language_info": {
      "name": "python"
    }
  },
  "cells": [
    {
      "cell_type": "markdown",
      "metadata": {
        "id": "view-in-github",
        "colab_type": "text"
      },
      "source": [
        "<a href=\"https://colab.research.google.com/github/vineetbiostats/AI4PH-thesis-project/blob/main/tu_met_nlpf_fundamentals_of_natural_language_processing_assignment_1.ipynb\" target=\"_parent\"><img src=\"https://colab.research.google.com/assets/colab-badge.svg\" alt=\"Open In Colab\"/></a>"
      ]
    },
    {
      "cell_type": "markdown",
      "source": [],
      "metadata": {
        "id": "B1G4ZryZNDSH"
      }
    },
    {
      "cell_type": "code",
      "execution_count": null,
      "metadata": {
        "id": "MhUGe_JcMZmN"
      },
      "outputs": [],
      "source": [
        "import nltk\n",
        "from nltk.tokenize import word_tokenize\n",
        "\n",
        "text = \"Patient is a 56-year-old male with a history of hypertension and type 2 diabetes. He has been experiencing chest pain for the past few days. EKG and blood work were performed, and the results were inconclusive. Further tests are being ordered to determine the cause of the chest pain.\"\n",
        "\n",
        "tokens = word_tokenize(text)\n",
        "print(tokens)\n"
      ]
    }
  ]
}